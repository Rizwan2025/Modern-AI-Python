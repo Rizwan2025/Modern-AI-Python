{
  "nbformat": 4,
  "nbformat_minor": 0,
  "metadata": {
    "colab": {
      "provenance": [],
      "authorship_tag": "ABX9TyPuYXPXPbN60WPOZL4WpDqq",
      "include_colab_link": true
    },
    "kernelspec": {
      "name": "python3",
      "display_name": "Python 3"
    },
    "language_info": {
      "name": "python"
    }
  },
  "cells": [
    {
      "cell_type": "markdown",
      "metadata": {
        "id": "view-in-github",
        "colab_type": "text"
      },
      "source": [
        "<a href=\"https://colab.research.google.com/github/Rizwan2025/Modern-AI-Python/blob/main/Invoice.ipynb\" target=\"_parent\"><img src=\"https://colab.research.google.com/assets/colab-badge.svg\" alt=\"Open In Colab\"/></a>"
      ]
    },
    {
      "cell_type": "code",
      "execution_count": 1,
      "metadata": {
        "colab": {
          "base_uri": "https://localhost:8080/"
        },
        "id": "_FJXX1cDZGQo",
        "outputId": "32dab1c8-b8d7-440d-985a-8b96413ff6b5"
      },
      "outputs": [
        {
          "output_type": "stream",
          "name": "stdout",
          "text": [
            "INVOICE\n",
            "==================================================\n",
            "Description          Unit       Quantity   Rate       Amount    \n",
            "==================================================\n",
            "Widget A             pcs        10         2.5        25.0      \n",
            "Widget B             pcs        5          5.0        25.0      \n",
            "Service C            hours      3          15.0       45.0      \n",
            "==================================================\n",
            "Total                                              95.0      \n",
            "==================================================\n"
          ]
        }
      ],
      "source": [
        "# Automatic Invoice Generator\n",
        "\n",
        "def generate_invoice(items):\n",
        "    \"\"\"\n",
        "    Generate a text-based invoice.\n",
        "\n",
        "    :param items: List of dictionaries with keys 'description', 'unit', 'quantity', 'rate'\n",
        "    :return: None\n",
        "    \"\"\"\n",
        "    print(\"INVOICE\")\n",
        "    print(\"=\" * 50)\n",
        "    print(\"{:<20} {:<10} {:<10} {:<10} {:<10}\".format(\"Description\", \"Unit\", \"Quantity\", \"Rate\", \"Amount\"))\n",
        "    print(\"=\" * 50)\n",
        "\n",
        "    total_amount = 0\n",
        "    for item in items:\n",
        "        description = item['description']\n",
        "        unit = item['unit']\n",
        "        quantity = item['quantity']\n",
        "        rate = item['rate']\n",
        "        amount = quantity * rate\n",
        "        total_amount += amount\n",
        "        print(\"{:<20} {:<10} {:<10} {:<10} {:<10}\".format(description, unit, quantity, rate, amount))\n",
        "\n",
        "    print(\"=\" * 50)\n",
        "    print(\"{:<50} {:<10}\".format(\"Total\", total_amount))\n",
        "    print(\"=\" * 50)\n",
        "\n",
        "# Example usage\n",
        "if __name__ == \"__main__\":\n",
        "    items = [\n",
        "        {\"description\": \"Widget A\", \"unit\": \"pcs\", \"quantity\": 10, \"rate\": 2.5},\n",
        "        {\"description\": \"Widget B\", \"unit\": \"pcs\", \"quantity\": 5, \"rate\": 5.0},\n",
        "        {\"description\": \"Service C\", \"unit\": \"hours\", \"quantity\": 3, \"rate\": 15.0}\n",
        "    ]\n",
        "    generate_invoice(items)\n"
      ]
    }
  ]
}