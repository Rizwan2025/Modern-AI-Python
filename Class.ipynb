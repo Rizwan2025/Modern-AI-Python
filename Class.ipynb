{
  "nbformat": 4,
  "nbformat_minor": 0,
  "metadata": {
    "colab": {
      "provenance": [],
      "authorship_tag": "ABX9TyPUqp9vGS6Pf+DQ+mkzrVTP",
      "include_colab_link": true
    },
    "kernelspec": {
      "name": "python3",
      "display_name": "Python 3"
    },
    "language_info": {
      "name": "python"
    }
  },
  "cells": [
    {
      "cell_type": "markdown",
      "metadata": {
        "id": "view-in-github",
        "colab_type": "text"
      },
      "source": [
        "<a href=\"https://colab.research.google.com/github/Rizwan2025/Modern-AI-Python/blob/main/Class.ipynb\" target=\"_parent\"><img src=\"https://colab.research.google.com/assets/colab-badge.svg\" alt=\"Open In Colab\"/></a>"
      ]
    },
    {
      "cell_type": "code",
      "source": [
        "# prompt: make a simple calculator in python\n",
        "\n",
        "# @title Default title text\n",
        "\n",
        "def add(x, y):\n",
        "  \"\"\"Adds two numbers.\"\"\"\n",
        "  return x + y\n",
        "\n",
        "def subtract(x, y):\n",
        "  \"\"\"Subtracts two numbers.\"\"\"\n",
        "  return x - y\n",
        "\n",
        "def multiply(x, y):\n",
        "  \"\"\"Multiplies two numbers.\"\"\"\n",
        "  return x * y\n",
        "\n",
        "def divide(x, y):\n",
        "  \"\"\"Divides two numbers.\"\"\"\n",
        "  if y == 0:\n",
        "    return \"Division by zero error!\"\n",
        "  else:\n",
        "    return x / y\n",
        "\n",
        "while True:\n",
        "  print(\"\\nSelect operation:\")\n",
        "  print(\"1. Add\")\n",
        "  print(\"2. Subtract\")\n",
        "  print(\"3. Multiply\")\n",
        "  print(\"4. Divide\")\n",
        "  print(\"5. Exit\")\n",
        "\n",
        "  choice = input(\"Enter choice(1/2/3/4/5): \")\n",
        "\n",
        "  if choice in ('1', '2', '3', '4'):\n",
        "    try:\n",
        "      num1 = float(input(\"Enter first number: \"))\n",
        "      num2 = float(input(\"Enter second number: \"))\n",
        "    except ValueError:\n",
        "      print(\"Invalid input. Please enter numbers only.\")\n",
        "      continue\n",
        "\n",
        "    if choice == '1':\n",
        "      print(num1, \"+\", num2, \"=\", add(num1, num2))\n",
        "\n",
        "    elif choice == '2':\n",
        "      print(num1, \"-\", num2, \"=\", subtract(num1, num2))\n",
        "\n",
        "    elif choice == '3':\n",
        "      print(num1, \"*\", num2, \"=\", multiply(num1, num2))\n",
        "\n",
        "    elif choice == '4':\n",
        "      print(num1, \"/\", num2, \"=\", divide(num1, num2))\n",
        "\n",
        "  elif choice == '5':\n",
        "    break\n",
        "\n",
        "  else:\n",
        "    print(\"Invalid input\")\n"
      ],
      "metadata": {
        "id": "yhMv9USa232U",
        "colab": {
          "base_uri": "https://localhost:8080/"
        },
        "outputId": "d3f24aa3-6bb4-4f4a-ebeb-fae91b9211a3"
      },
      "execution_count": null,
      "outputs": [
        {
          "output_type": "stream",
          "name": "stdout",
          "text": [
            "\n",
            "Select operation:\n",
            "1. Add\n",
            "2. Subtract\n",
            "3. Multiply\n",
            "4. Divide\n",
            "5. Exit\n"
          ]
        }
      ]
    },
    {
      "cell_type": "markdown",
      "source": [],
      "metadata": {
        "id": "QyYwkbXbD49k"
      }
    },
    {
      "cell_type": "code",
      "source": [
        "while True:\n",
        "    user_input = input(\"Enter 'toggle' to switch power source, or 'exit' to quit: \").strip().lower()\n",
        "    if user_input == \"toggle\":\n",
        "        current_source = toggle_power_source(current_source)\n",
        "        print(f\"Power source is now: {current_source}\")\n",
        "    elif user_input == \"exit\":\n",
        "        print(\"Exiting the system. Goodbye!\")\n",
        "        break\n",
        "    else:\n",
        "        print(\"Invalid input. Please type 'toggle' or 'exit'.\")\n",
        "    time.sleep(1)  # To simulate a delay in operation"
      ],
      "metadata": {
        "id": "Xhl_lMeCdm_1"
      },
      "execution_count": null,
      "outputs": []
    }
  ]
}