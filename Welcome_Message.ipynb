{
  "nbformat": 4,
  "nbformat_minor": 0,
  "metadata": {
    "colab": {
      "provenance": [],
      "authorship_tag": "ABX9TyPqhEw84VmANh5TSb0kNElG",
      "include_colab_link": true
    },
    "kernelspec": {
      "name": "python3",
      "display_name": "Python 3"
    },
    "language_info": {
      "name": "python"
    }
  },
  "cells": [
    {
      "cell_type": "markdown",
      "metadata": {
        "id": "view-in-github",
        "colab_type": "text"
      },
      "source": [
        "<a href=\"https://colab.research.google.com/github/Rizwan2025/Modern-AI-Python/blob/main/Welcome_Message.ipynb\" target=\"_parent\"><img src=\"https://colab.research.google.com/assets/colab-badge.svg\" alt=\"Open In Colab\"/></a>"
      ]
    },
    {
      "cell_type": "code",
      "execution_count": 1,
      "metadata": {
        "colab": {
          "base_uri": "https://localhost:8080/"
        },
        "id": "PDaUpjaZsjDL",
        "outputId": "2541f816-e2b3-4a90-90ea-e0acac0916f1"
      },
      "outputs": [
        {
          "output_type": "stream",
          "name": "stdout",
          "text": [
            "What is your name? Rizwan\n",
            "Hello, Rizwan! Welcome to coding.\n",
            "Here’s a fun fact: Python is named after a comedy show, not the snake!\n"
          ]
        }
      ],
      "source": [
        "# A simple Python program to greet the user\n",
        "def main():\n",
        "    name = input(\"What is your name? \")\n",
        "    print(f\"Hello, {name}! Welcome to coding.\")\n",
        "    print(\"Here’s a fun fact: Python is named after a comedy show, not the snake!\")\n",
        "\n",
        "if __name__ == \"__main__\":\n",
        "    main()"
      ]
    }
  ]
}