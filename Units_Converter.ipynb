{
  "nbformat": 4,
  "nbformat_minor": 0,
  "metadata": {
    "colab": {
      "provenance": [],
      "authorship_tag": "ABX9TyNPspBmWiztrnuryTCQNR+b",
      "include_colab_link": true
    },
    "kernelspec": {
      "name": "python3",
      "display_name": "Python 3"
    },
    "language_info": {
      "name": "python"
    }
  },
  "cells": [
    {
      "cell_type": "markdown",
      "metadata": {
        "id": "view-in-github",
        "colab_type": "text"
      },
      "source": [
        "<a href=\"https://colab.research.google.com/github/Rizwan2025/Modern-AI-Python/blob/main/Units_Converter.ipynb\" target=\"_parent\"><img src=\"https://colab.research.google.com/assets/colab-badge.svg\" alt=\"Open In Colab\"/></a>"
      ]
    },
    {
      "cell_type": "code",
      "execution_count": null,
      "metadata": {
        "colab": {
          "base_uri": "https://localhost:8080/"
        },
        "id": "PSBRIGak3P1j",
        "outputId": "eccd2652-2dea-407e-ea3d-253cde58de11"
      },
      "outputs": [
        {
          "output_type": "stream",
          "name": "stdout",
          "text": [
            "Select a category:\n",
            "1. Temperature (C, F, K)\n",
            "2. Distance (m, km, mi, ft)\n",
            "3. Weight (g, kg, lb, oz)\n"
          ]
        }
      ],
      "source": [
        "def convert_temperature(value, from_unit, to_unit):\n",
        "    \"\"\"Converts temperature between Celsius, Fahrenheit, and Kelvin.\"\"\"\n",
        "    if from_unit == \"C\":\n",
        "        if to_unit == \"F\":\n",
        "            return (value * 9/5) + 32\n",
        "        elif to_unit == \"K\":\n",
        "            return value + 273.15\n",
        "    elif from_unit == \"F\":\n",
        "        if to_unit == \"C\":\n",
        "            return (value - 32) * 5/9\n",
        "        elif to_unit == \"K\":\n",
        "            return (value - 32) * 5/9 + 273.15\n",
        "    elif from_unit == \"K\":\n",
        "        if to_unit == \"C\":\n",
        "            return value - 273.15\n",
        "        elif to_unit == \"F\":\n",
        "            return (value - 273.15) * 9/5 + 32\n",
        "    return value  # Return original if no conversion needed\n",
        "\n",
        "def convert_distance(value, from_unit, to_unit):\n",
        "    \"\"\"Converts distance between meters, kilometers, miles, and feet.\"\"\"\n",
        "    conversion_factors = {\n",
        "        \"m\": {\"km\": 0.001, \"mi\": 0.000621371, \"ft\": 3.28084},\n",
        "        \"km\": {\"m\": 1000, \"mi\": 0.621371, \"ft\": 3280.84},\n",
        "        \"mi\": {\"m\": 1609.34, \"km\": 1.60934, \"ft\": 5280},\n",
        "        \"ft\": {\"m\": 0.3048, \"km\": 0.0003048, \"mi\": 0.000189394}\n",
        "    }\n",
        "    return value * conversion_factors[from_unit].get(to_unit, 1)\n",
        "\n",
        "def convert_weight(value, from_unit, to_unit):\n",
        "    \"\"\"Converts weight between grams, kilograms, pounds, and ounces.\"\"\"\n",
        "    conversion_factors = {\n",
        "        \"g\": {\"kg\": 0.001, \"lb\": 0.00220462, \"oz\": 0.035274},\n",
        "        \"kg\": {\"g\": 1000, \"lb\": 2.20462, \"oz\": 35.274},\n",
        "        \"lb\": {\"g\": 453.592, \"kg\": 0.453592, \"oz\": 16},\n",
        "        \"oz\": {\"g\": 28.3495, \"kg\": 0.0283495, \"lb\": 0.0625}\n",
        "    }\n",
        "    return value * conversion_factors[from_unit].get(to_unit, 1)\n",
        "\n",
        "def unit_converter():\n",
        "    \"\"\"CLI interface for converting units.\"\"\"\n",
        "    categories = {\n",
        "        \"1\": (\"Temperature\", convert_temperature, [\"C\", \"F\", \"K\"]),\n",
        "        \"2\": (\"Distance\", convert_distance, [\"m\", \"km\", \"mi\", \"ft\"]),\n",
        "        \"3\": (\"Weight\", convert_weight, [\"g\", \"kg\", \"lb\", \"oz\"])\n",
        "    }\n",
        "\n",
        "    print(\"Select a category:\")\n",
        "    for key, (name, _, units) in categories.items():\n",
        "        print(f\"{key}. {name} ({', '.join(units)})\")\n",
        "\n",
        "    category_choice = input(\"Enter choice (1-3): \").strip()\n",
        "    if category_choice not in categories:\n",
        "        print(\"Invalid choice!\")\n",
        "        return\n",
        "\n",
        "    category_name, conversion_function, units = categories[category_choice]\n",
        "\n",
        "    print(f\"Available units: {', '.join(units)}\")\n",
        "    from_unit = input(\"Enter the unit to convert from: \").strip()\n",
        "    to_unit = input(\"Enter the unit to convert to: \").strip()\n",
        "\n",
        "    if from_unit not in units or to_unit not in units:\n",
        "        print(\"Invalid unit selection!\")\n",
        "        return\n",
        "\n",
        "    try:\n",
        "        value = float(input(f\"Enter the value in {from_unit}: \"))\n",
        "        converted_value = conversion_function(value, from_unit, to_unit)\n",
        "        print(f\"{value} {from_unit} = {converted_value:.2f} {to_unit}\")\n",
        "    except ValueError:\n",
        "        print(\"Invalid number input!\")\n",
        "\n",
        "if __name__ == \"__main__\":\n",
        "    unit_converter()\n"
      ]
    }
  ]
}