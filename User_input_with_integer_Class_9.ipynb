{
  "nbformat": 4,
  "nbformat_minor": 0,
  "metadata": {
    "colab": {
      "provenance": [],
      "authorship_tag": "ABX9TyNgVsd2qSSfuYL4exUeurgX",
      "include_colab_link": true
    },
    "kernelspec": {
      "name": "python3",
      "display_name": "Python 3"
    },
    "language_info": {
      "name": "python"
    }
  },
  "cells": [
    {
      "cell_type": "markdown",
      "metadata": {
        "id": "view-in-github",
        "colab_type": "text"
      },
      "source": [
        "<a href=\"https://colab.research.google.com/github/Rizwan2025/Modern-AI-Python/blob/main/User_input_with_integer_Class_9.ipynb\" target=\"_parent\"><img src=\"https://colab.research.google.com/assets/colab-badge.svg\" alt=\"Open In Colab\"/></a>"
      ]
    },
    {
      "cell_type": "code",
      "execution_count": 4,
      "metadata": {
        "colab": {
          "base_uri": "https://localhost:8080/"
        },
        "id": "c2zMgGHoBAzV",
        "outputId": "412b5452-9dee-4531-c0bc-eff0d71b3a49"
      },
      "outputs": [
        {
          "output_type": "stream",
          "name": "stdout",
          "text": [
            "Enter a Number: 18\n",
            "Multiplication Table of 18\n",
            "18 * 1 = 18\n",
            "18 * 2 = 36\n",
            "18 * 3 = 54\n",
            "18 * 4 = 72\n",
            "18 * 5 = 90\n",
            "18 * 6 = 108\n",
            "18 * 7 = 126\n",
            "18 * 8 = 144\n",
            "18 * 9 = 162\n",
            "18 * 10 = 180\n"
          ]
        }
      ],
      "source": [
        "# Get User Input:\n",
        "num = int(input(\"Enter a Number: \"))\n",
        "\n",
        "# print multiplication table\n",
        "print(f\"Multiplication Table of {num}\")\n",
        "for i in range(1,11) :\n",
        "    print(f\"{num} * {i} = {num * i}\")"
      ]
    }
  ]
}