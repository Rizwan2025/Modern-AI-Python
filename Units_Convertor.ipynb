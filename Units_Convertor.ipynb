{
  "nbformat": 4,
  "nbformat_minor": 0,
  "metadata": {
    "colab": {
      "provenance": [],
      "authorship_tag": "ABX9TyOTrcQz0mnFqQsr12HK8djm",
      "include_colab_link": true
    },
    "kernelspec": {
      "name": "python3",
      "display_name": "Python 3"
    },
    "language_info": {
      "name": "python"
    }
  },
  "cells": [
    {
      "cell_type": "markdown",
      "metadata": {
        "id": "view-in-github",
        "colab_type": "text"
      },
      "source": [
        "<a href=\"https://colab.research.google.com/github/Rizwan2025/Modern-AI-Python/blob/main/Units_Convertor.ipynb\" target=\"_parent\"><img src=\"https://colab.research.google.com/assets/colab-badge.svg\" alt=\"Open In Colab\"/></a>"
      ]
    },
    {
      "cell_type": "code",
      "execution_count": 1,
      "metadata": {
        "colab": {
          "base_uri": "https://localhost:8080/"
        },
        "id": "UTlHvIbHWxIo",
        "outputId": "26357060-57dc-4b08-8c2e-509283191d9e"
      },
      "outputs": [
        {
          "output_type": "stream",
          "name": "stdout",
          "text": [
            "10 meters is 0.01 kilometers\n",
            "5 miles is 8.0467 kilometers\n",
            "1000 feet is 304.79999024640034 meters\n"
          ]
        }
      ],
      "source": [
        "# Length Unit Converter\n",
        "\n",
        "def meters_to_kilometers(meters):\n",
        "    \"\"\"Convert meters to kilometers.\"\"\"\n",
        "    return meters / 1000\n",
        "\n",
        "def kilometers_to_meters(kilometers):\n",
        "    \"\"\"Convert kilometers to meters.\"\"\"\n",
        "    return kilometers * 1000\n",
        "\n",
        "def meters_to_miles(meters):\n",
        "    \"\"\"Convert meters to miles.\"\"\"\n",
        "    return meters / 1609.34\n",
        "\n",
        "def miles_to_meters(miles):\n",
        "    \"\"\"Convert miles to meters.\"\"\"\n",
        "    return miles * 1609.34\n",
        "\n",
        "def meters_to_feet(meters):\n",
        "    \"\"\"Convert meters to feet.\"\"\"\n",
        "    return meters * 3.28084\n",
        "\n",
        "def feet_to_meters(feet):\n",
        "    \"\"\"Convert feet to meters.\"\"\"\n",
        "    return feet / 3.28084\n",
        "\n",
        "def kilometers_to_miles(kilometers):\n",
        "    \"\"\"Convert kilometers to miles.\"\"\"\n",
        "    return kilometers / 1.60934\n",
        "\n",
        "def miles_to_kilometers(miles):\n",
        "    \"\"\"Convert miles to kilometers.\"\"\"\n",
        "    return miles * 1.60934\n",
        "\n",
        "def kilometers_to_feet(kilometers):\n",
        "    \"\"\"Convert kilometers to feet.\"\"\"\n",
        "    return kilometers * 3280.84\n",
        "\n",
        "def feet_to_kilometers(feet):\n",
        "    \"\"\"Convert feet to kilometers.\"\"\"\n",
        "    return feet / 3280.84\n",
        "\n",
        "def miles_to_feet(miles):\n",
        "    \"\"\"Convert miles to feet.\"\"\"\n",
        "    return miles * 5280\n",
        "\n",
        "def feet_to_miles(feet):\n",
        "    \"\"\"Convert feet to miles.\"\"\"\n",
        "    return feet / 5280\n",
        "\n",
        "# Example usage\n",
        "if __name__ == \"__main__\":\n",
        "    print(\"10 meters is\", meters_to_kilometers(10), \"kilometers\")\n",
        "    print(\"5 miles is\", miles_to_kilometers(5), \"kilometers\")\n",
        "    print(\"1000 feet is\", feet_to_meters(1000), \"meters\")"
      ]
    }
  ]
}