{
 "cells": [
  {
   "cell_type": "code",
   "execution_count": null,
   "metadata": {},
   "outputs": [],
   "source": [
    "def count_down(num: int)-> int:\n",
    "    if num == 0:\n",
    "        print(\"Count Down Done\")\n",
    "    else:\n",
    "        print(\"num>>>\",num)  # 10 -> 9\n",
    "        count_down(num - 1)  # 9 -1 -> 8     \n",
    "\n",
    "count_down(10)"
   ]
  },
  {
   "cell_type": "code",
   "execution_count": null,
   "metadata": {},
   "outputs": [],
   "source": [
    "def add(a:int,b:int) ->int:\n",
    "    return a+b\n",
    "\n",
    "#lambda parameters: expression/ statment\n",
    "add = lambda a , b: a+b\n",
    "\n",
    "result = add()"
   ]
  },
  {
   "cell_type": "code",
   "execution_count": null,
   "metadata": {},
   "outputs": [],
   "source": [
    "import os\n",
    "print(\"cwd\",os.getcwd()) # cwd -> Current working directory\n",
    "print(\"list dir\",os.listdir())\n",
    "print(\"new folder\",os.mkdir(\"test\"))\n",
    "print(\"rename\",os.rename(\"test new\",\"test latest\"))"
   ]
  },
  {
   "cell_type": "code",
   "execution_count": null,
   "metadata": {},
   "outputs": [
    {
     "name": "stdout",
     "output_type": "stream",
     "text": [
      "cwd d:\\code\\python\\Sun7to10\\Class-12\n",
      "list dir ['app.ipynb', 'test']\n"
     ]
    }
   ],
   "source": [
    "import os\n",
    "\n",
    "print(\"cwd:\", os.getcwd())  # cwd -> Current working directory\n",
    "print(\"list dir:\", os.listdir())  # Lists files and folders in the current directory\n",
    "\n",
    "# Create a new folder only if it doesn't exist\n",
    "folder_name = \"test\"\n",
    "if not os.path.exists(folder_name):\n",
    "    os.mkdir(folder_name)\n",
    "    print(f\"New folder created: {folder_name}\")\n",
    "else:\n",
    "    print(f\"Folder '{folder_name}' already exists\")\n",
    "\n",
    "# Rename a folder only if it exists\n",
    "old_name = \"test new\"\n",
    "new_name = \"test latest\"\n",
    "\n",
    "if os.path.exists(old_name):\n",
    "    os.rename(old_name, new_name)\n",
    "    print(f\"Renamed '{old_name}' to '{new_name}'\")\n",
    "else:\n",
    "    print(f\"Folder '{old_name}' does not exist, rename skipped\")\n"
   ]
  },
  {
   "cell_type": "markdown",
   "metadata": {},
   "source": [
    "\n",
    "Recursive Function / Recursion\n",
    "File operation"
   ]
  },
  {
   "cell_type": "code",
   "execution_count": 31,
   "metadata": {},
   "outputs": [
    {
     "name": "stdout",
     "output_type": "stream",
     "text": [
      "Asslam o Alaikum Ramzan Mubarak\n"
     ]
    }
   ],
   "source": [
    "file = open(\"text.text\",\"r\")\n",
    "print(file.read())\n",
    "file.close()"
   ]
  },
  {
   "cell_type": "code",
   "execution_count": 35,
   "metadata": {},
   "outputs": [],
   "source": [
    "file = open(\"text2.text\",\"w\")\n",
    "file.write(\"Hi How Are You i am fine\")\n",
    "file.write(\"\\nI am fine\")\n",
    "file.close()"
   ]
  },
  {
   "cell_type": "code",
   "execution_count": 36,
   "metadata": {},
   "outputs": [],
   "source": [
    "file = open(\"text2.text\",\"a\")\n",
    "file.write(\"\\nI am fine\")\n",
    "file.close()"
   ]
  },
  {
   "cell_type": "code",
   "execution_count": 37,
   "metadata": {},
   "outputs": [],
   "source": [
    "with open(\"text2.text\",\"w\") as file:\n",
    "    file.write(\"kaisa laga mera mazaq\")"
   ]
  },
  {
   "cell_type": "markdown",
   "metadata": {},
   "source": [
    "Factorial , lambda 2 Nos Assignments for home Work"
   ]
  }
 ],
 "metadata": {
  "kernelspec": {
   "display_name": "Python 3",
   "language": "python",
   "name": "python3"
  },
  "language_info": {
   "codemirror_mode": {
    "name": "ipython",
    "version": 3
   },
   "file_extension": ".py",
   "mimetype": "text/x-python",
   "name": "python",
   "nbconvert_exporter": "python",
   "pygments_lexer": "ipython3",
   "version": "3.13.0"
  }
 },
 "nbformat": 4,
 "nbformat_minor": 2
}
