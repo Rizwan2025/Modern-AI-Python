{
  "cells": [
    {
      "cell_type": "markdown",
      "metadata": {
        "id": "view-in-github",
        "colab_type": "text"
      },
      "source": [
        "<a href=\"https://colab.research.google.com/github/Rizwan2025/Modern-AI-Python/blob/main/python_projects.ipynb\" target=\"_parent\"><img src=\"https://colab.research.google.com/assets/colab-badge.svg\" alt=\"Open In Colab\"/></a>"
      ]
    },
    {
      "cell_type": "markdown",
      "id": "1ca3a121",
      "metadata": {
        "id": "1ca3a121"
      },
      "source": [
        "## 1. Calculator"
      ]
    },
    {
      "cell_type": "code",
      "source": [],
      "metadata": {
        "id": "B9cEZ0R2jDzG"
      },
      "id": "B9cEZ0R2jDzG",
      "execution_count": null,
      "outputs": []
    },
    {
      "cell_type": "code",
      "execution_count": null,
      "id": "fe036f03",
      "metadata": {
        "id": "fe036f03"
      },
      "outputs": [],
      "source": [
        "# Simple Calculator\n",
        "def calculator():\n",
        "    print(\"Options:\")\n",
        "    print(\"1: Add\")\n",
        "    print(\"2: Subtract\")\n",
        "    print(\"3: Multiply\")\n",
        "    print(\"4: Divide\")\n",
        "    choice = input(\"Enter choice (1/2/3/4): \")\n",
        "\n",
        "    num1 = float(input(\"Enter first number: \"))\n",
        "    num2 = float(input(\"Enter second number: \"))\n",
        "\n",
        "    if choice == '1':\n",
        "        print(f\"Result: {num1 + num2}\")\n",
        "    elif choice == '2':\n",
        "        print(f\"Result: {num1 - num2}\")\n",
        "    elif choice == '3':\n",
        "        print(f\"Result: {num1 * num2}\")\n",
        "    elif choice == '4':\n",
        "        if num2 != 0:\n",
        "            print(f\"Result: {num1 / num2}\")\n",
        "        else:\n",
        "            print(\"Cannot divide by zero\")\n",
        "    else:\n",
        "        print(\"Invalid choice\")\n",
        "\n",
        "calculator()\n"
      ]
    },
    {
      "cell_type": "markdown",
      "id": "7009ee29",
      "metadata": {
        "id": "7009ee29"
      },
      "source": [
        "## 2. To-Do List App"
      ]
    },
    {
      "cell_type": "code",
      "execution_count": null,
      "id": "36f55502",
      "metadata": {
        "id": "36f55502"
      },
      "outputs": [],
      "source": [
        "# Simple To-Do List\n",
        "tasks = []\n",
        "\n",
        "def add_task(task):\n",
        "    tasks.append(task)\n",
        "    print(f\"Added: {task}\")\n",
        "\n",
        "def view_tasks():\n",
        "    print(\"To-Do List:\")\n",
        "    for i, task in enumerate(tasks, 1):\n",
        "        print(f\"{i}. {task}\")\n",
        "\n",
        "add_task(\"Learn Python\")\n",
        "add_task(\"Complete a project\")\n",
        "view_tasks()\n"
      ]
    },
    {
      "cell_type": "markdown",
      "id": "00b65236",
      "metadata": {
        "id": "00b65236"
      },
      "source": [
        "## 3. Number Guessing Game"
      ]
    },
    {
      "cell_type": "code",
      "execution_count": null,
      "id": "b05a7745",
      "metadata": {
        "id": "b05a7745"
      },
      "outputs": [],
      "source": [
        "import random\n",
        "\n",
        "def guess_number():\n",
        "    number = random.randint(1, 100)\n",
        "    guess = None\n",
        "    while guess != number:\n",
        "        guess = int(input(\"Guess the number (1-100): \"))\n",
        "        if guess < number:\n",
        "            print(\"Too low! Try again.\")\n",
        "        elif guess > number:\n",
        "            print(\"Too high! Try again.\")\n",
        "    print(\"Congratulations! You guessed it right.\")\n",
        "\n",
        "guess_number()\n"
      ]
    },
    {
      "cell_type": "markdown",
      "id": "e4e7b5df",
      "metadata": {
        "id": "e4e7b5df"
      },
      "source": [
        "## 4. Rock-Paper-Scissors"
      ]
    },
    {
      "cell_type": "code",
      "execution_count": null,
      "id": "4c0e45e5",
      "metadata": {
        "id": "4c0e45e5"
      },
      "outputs": [],
      "source": [
        "import random\n",
        "\n",
        "def play():\n",
        "    options = [\"rock\", \"paper\", \"scissors\"]\n",
        "    computer = random.choice(options)\n",
        "    player = input(\"Choose rock, paper, or scissors: \").lower()\n",
        "\n",
        "    if player == computer:\n",
        "        print(\"It's a tie!\")\n",
        "    elif (player == \"rock\" and computer == \"scissors\") or          (player == \"paper\" and computer == \"rock\") or          (player == \"scissors\" and computer == \"paper\"):\n",
        "        print(\"You win!\")\n",
        "    else:\n",
        "        print(\"You lose!\")\n",
        "\n",
        "play()\n"
      ]
    },
    {
      "cell_type": "markdown",
      "id": "67bf085d",
      "metadata": {
        "id": "67bf085d"
      },
      "source": [
        "## 5. Dice Roller"
      ]
    },
    {
      "cell_type": "code",
      "execution_count": null,
      "id": "3263eb76",
      "metadata": {
        "id": "3263eb76"
      },
      "outputs": [],
      "source": [
        "import random\n",
        "\n",
        "def roll_dice():\n",
        "    print(f\"You rolled: {random.randint(1, 6)}\")\n",
        "\n",
        "roll_dice()\n"
      ]
    }
  ],
  "metadata": {
    "colab": {
      "provenance": [],
      "include_colab_link": true
    },
    "language_info": {
      "name": "python"
    },
    "kernelspec": {
      "name": "python3",
      "display_name": "Python 3"
    }
  },
  "nbformat": 4,
  "nbformat_minor": 5
}