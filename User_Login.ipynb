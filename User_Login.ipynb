{
  "nbformat": 4,
  "nbformat_minor": 0,
  "metadata": {
    "colab": {
      "provenance": [],
      "authorship_tag": "ABX9TyNPJamA1GrbmTIyBTk7bmKw",
      "include_colab_link": true
    },
    "kernelspec": {
      "name": "python3",
      "display_name": "Python 3"
    },
    "language_info": {
      "name": "python"
    }
  },
  "cells": [
    {
      "cell_type": "markdown",
      "metadata": {
        "id": "view-in-github",
        "colab_type": "text"
      },
      "source": [
        "<a href=\"https://colab.research.google.com/github/Rizwan2025/Modern-AI-Python/blob/main/User_Login.ipynb\" target=\"_parent\"><img src=\"https://colab.research.google.com/assets/colab-badge.svg\" alt=\"Open In Colab\"/></a>"
      ]
    },
    {
      "cell_type": "code",
      "execution_count": 1,
      "metadata": {
        "colab": {
          "base_uri": "https://localhost:8080/"
        },
        "id": "2oIm2LLjyhrO",
        "outputId": "ade57a8d-db49-41fe-f9a9-e584696c55ac"
      },
      "outputs": [
        {
          "output_type": "stream",
          "name": "stdout",
          "text": [
            "Username: Rizwan\n",
            "Password: 123scf\n",
            "Password incorrect\n"
          ]
        }
      ],
      "source": [
        "# Beginner Python Project using input, print, and conditionals by Rizwan\n",
        "\n",
        "import time\n",
        "\n",
        "username = 'Rizwan'\n",
        "password = 'secretpassword'\n",
        "\n",
        "username_input = input('Username: ')\n",
        "password_input = input('Password: ')\n",
        "\n",
        "if username_input == username and password_input == password:\n",
        "    print('Access granted')\n",
        "    print('Please wait')\n",
        "    time.sleep(5)\n",
        "    print('Ok... Loading...')\n",
        "    time.sleep(1)\n",
        "    print('...')\n",
        "    time.sleep(1)\n",
        "    print('...')\n",
        "    print('Alright you have security clearance. Pulling up the secret mainframe.')\n",
        "elif username_input == username and password_input != password:\n",
        "    print('Password incorrect')\n",
        "elif username_input != username and password_input == password:\n",
        "    print('Username incorrect')\n",
        "else:\n",
        "    print('You might wanna check both fields...')"
      ]
    }
  ]
}