{
  "nbformat": 4,
  "nbformat_minor": 0,
  "metadata": {
    "colab": {
      "provenance": [],
      "authorship_tag": "ABX9TyPftJkoTr6c3SjJXxalisVi",
      "include_colab_link": true
    },
    "kernelspec": {
      "name": "python3",
      "display_name": "Python 3"
    },
    "language_info": {
      "name": "python"
    }
  },
  "cells": [
    {
      "cell_type": "markdown",
      "metadata": {
        "id": "view-in-github",
        "colab_type": "text"
      },
      "source": [
        "<a href=\"https://colab.research.google.com/github/Rizwan2025/Modern-AI-Python/blob/main/Class_10.ipynb\" target=\"_parent\"><img src=\"https://colab.research.google.com/assets/colab-badge.svg\" alt=\"Open In Colab\"/></a>"
      ]
    },
    {
      "cell_type": "code",
      "execution_count": null,
      "metadata": {
        "colab": {
          "base_uri": "https://localhost:8080/"
        },
        "id": "7G-BP_1rpgLN",
        "outputId": "432ad791-3a3c-46a2-d267-21f6163a64fa"
      },
      "outputs": [
        {
          "output_type": "stream",
          "name": "stdout",
          "text": [
            "result>>> {1, 2, 3, 4, 5}\n",
            "result>>> {3}\n",
            "<class 'set'>\n"
          ]
        }
      ],
      "source": [
        "# Union\n",
        "num_set_1 = {1,2,3}\n",
        "num_set_2 = {3,4,5}\n",
        "\n",
        "result = num_set_1.union(num_set_2)\n",
        "print(\"result>>>\",result)\n",
        "\n",
        "# Intersection\n",
        "num_set_1 = {1,2,3}\n",
        "num_set_2 = {3,4,5}\n",
        "\n",
        "result = num_set_1.intersection(num_set_2)\n",
        "print(\"result>>>\",result)\n",
        "print(type(num_set_1))"
      ]
    }
  ]
}