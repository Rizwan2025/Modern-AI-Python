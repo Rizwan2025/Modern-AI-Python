{
  "nbformat": 4,
  "nbformat_minor": 0,
  "metadata": {
    "colab": {
      "provenance": [],
      "authorship_tag": "ABX9TyPCKx85EteVF5ZY0Fc+/llr",
      "include_colab_link": true
    },
    "kernelspec": {
      "name": "python3",
      "display_name": "Python 3"
    },
    "language_info": {
      "name": "python"
    }
  },
  "cells": [
    {
      "cell_type": "markdown",
      "metadata": {
        "id": "view-in-github",
        "colab_type": "text"
      },
      "source": [
        "<a href=\"https://colab.research.google.com/github/Rizwan2025/Modern-AI-Python/blob/main/Class9_User_input_Assignment.ipynb\" target=\"_parent\"><img src=\"https://colab.research.google.com/assets/colab-badge.svg\" alt=\"Open In Colab\"/></a>"
      ]
    },
    {
      "cell_type": "code",
      "execution_count": 1,
      "metadata": {
        "colab": {
          "base_uri": "https://localhost:8080/"
        },
        "id": "1ikf_sg0AZWX",
        "outputId": "67daf9b1-c4c5-4e68-e41b-5eb3d49de985"
      },
      "outputs": [
        {
          "output_type": "stream",
          "name": "stdout",
          "text": [
            "Enter a Number: 3.5\n",
            "Multiplication Table of 3.5\n",
            "3.5 * 1 = 3.5\n",
            "3.5 * 2 = 7.0\n",
            "3.5 * 3 = 10.5\n",
            "3.5 * 4 = 14.0\n",
            "3.5 * 5 = 17.5\n",
            "3.5 * 6 = 21.0\n",
            "3.5 * 7 = 24.5\n",
            "3.5 * 8 = 28.0\n",
            "3.5 * 9 = 31.5\n",
            "3.5 * 10 = 35.0\n"
          ]
        }
      ],
      "source": [
        "# Get User Input:\n",
        "num = float(input(\"Enter a Number: \"))\n",
        "\n",
        "# print multiplication table\n",
        "print(f\"Multiplication Table of {num}\")\n",
        "for i in range(1,11) :\n",
        "    print(f\"{num} * {i} = {num * i}\")"
      ]
    }
  ]
}