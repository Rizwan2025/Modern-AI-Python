{
  "nbformat": 4,
  "nbformat_minor": 0,
  "metadata": {
    "colab": {
      "provenance": [],
      "authorship_tag": "ABX9TyPCKx85EteVF5ZY0Fc+/llr",
      "include_colab_link": true
    },
    "kernelspec": {
      "name": "python3",
      "display_name": "Python 3"
    },
    "language_info": {
      "name": "python"
    }
  },
  "cells": [
    {
      "cell_type": "markdown",
      "metadata": {
        "id": "view-in-github",
        "colab_type": "text"
      },
      "source": [
        "<a href=\"https://colab.research.google.com/github/Rizwan2025/Modern-AI-Python/blob/main/Class9_User_input_Assignment.ipynb\" target=\"_parent\"><img src=\"https://colab.research.google.com/assets/colab-badge.svg\" alt=\"Open In Colab\"/></a>"
      ]
    },
    {
      "cell_type": "code",
      "execution_count": 1,
      "metadata": {
        "colab": {
          "base_uri": "https://localhost:8080/"
        },
        "id": "1ikf_sg0AZWX",
        "outputId": "493323b0-cf3a-4423-a8fd-3bdeb3589b39"
      },
      "outputs": [
        {
          "output_type": "stream",
          "name": "stdout",
          "text": [
            "Enter a Number: 2.5\n",
            "Multiplication Table of 2.5\n",
            "2.5 * 1 = 2.5\n",
            "2.5 * 2 = 5.0\n",
            "2.5 * 3 = 7.5\n",
            "2.5 * 4 = 10.0\n",
            "2.5 * 5 = 12.5\n",
            "2.5 * 6 = 15.0\n",
            "2.5 * 7 = 17.5\n",
            "2.5 * 8 = 20.0\n",
            "2.5 * 9 = 22.5\n",
            "2.5 * 10 = 25.0\n"
          ]
        }
      ],
      "source": [
        "# Get User Input:\n",
        "num = float(input(\"Enter a Number: \"))\n",
        "\n",
        "# print multiplication table\n",
        "print(f\"Multiplication Table of {num}\")\n",
        "for i in range(1,11) :\n",
        "    print(f\"{num} * {i} = {num * i}\")"
      ]
    }
  ]
}