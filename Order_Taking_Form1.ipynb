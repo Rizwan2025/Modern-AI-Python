{
  "nbformat": 4,
  "nbformat_minor": 0,
  "metadata": {
    "colab": {
      "provenance": [],
      "authorship_tag": "ABX9TyNEI9az5umfGt3Ca41d1FVJ",
      "include_colab_link": true
    },
    "kernelspec": {
      "name": "python3",
      "display_name": "Python 3"
    },
    "language_info": {
      "name": "python"
    }
  },
  "cells": [
    {
      "cell_type": "markdown",
      "metadata": {
        "id": "view-in-github",
        "colab_type": "text"
      },
      "source": [
        "<a href=\"https://colab.research.google.com/github/Rizwan2025/Modern-AI-Python/blob/main/Order_Taking_Form1.ipynb\" target=\"_parent\"><img src=\"https://colab.research.google.com/assets/colab-badge.svg\" alt=\"Open In Colab\"/></a>"
      ]
    },
    {
      "cell_type": "code",
      "source": [
        "# prompt:  Online Food order taking from user input.\n",
        "\n",
        "import datetime\n",
        "\n",
        "class FoodItem:\n",
        "    def __init__(self, name, price):\n",
        "        self.name = name\n",
        "        self.price = price\n",
        "\n",
        "class Order:\n",
        "    def __init__(self, customer_name, order_items):\n",
        "        self.customer_name = customer_name\n",
        "        self.order_items = order_items\n",
        "        self.order_time = datetime.datetime.now()\n",
        "        self.order_id = self.generate_order_id()\n",
        "        self.total_price = self.calculate_total_price()\n",
        "\n",
        "    def generate_order_id(self):\n",
        "        return str(self.order_time.timestamp()).replace(\".\", \"\")[:10]\n",
        "\n",
        "    def calculate_total_price(self):\n",
        "        return sum(item.price for item in self.order_items)\n",
        "\n",
        "    def display_order(self):\n",
        "        print(\"Order ID:\", self.order_id)\n",
        "        print(\"Customer Name:\", self.customer_name)\n",
        "        print(\"Order Time:\", self.order_time.strftime(\"%Y-%m-%d %H:%M:%S\"))\n",
        "        print(\"Order Items:\")\n",
        "        for item in self.order_items:\n",
        "            print(f\"- {item.name}: PKR{item.price:.2f}\")\n",
        "        print(\"Total Price: PKR{:.2f}\".format(self.total_price))\n",
        "        print(\"-\" * 20)\n",
        "\n",
        "\n",
        "def main():\n",
        "    menu = [\n",
        "        FoodItem(\"Burger\", 150),\n",
        "        FoodItem(\"Pizza\", 450),\n",
        "        FoodItem(\"Fries\", 100),\n",
        "        FoodItem(\"Soda\", 180)\n",
        "    ]\n",
        "\n",
        "    customer_name = input(\"Enter customer name: \")\n",
        "    print(\"Menu:\")\n",
        "    for i, item in enumerate(menu):\n",
        "        print(f\"{i + 1}. {item.name}: PKR{item.price:.2f}\")\n",
        "\n",
        "    order_items = []\n",
        "    while True:\n",
        "        try:\n",
        "            choice = int(input(\"Enter item number (0 to finish): \"))\n",
        "            if choice == 0:\n",
        "                break\n",
        "            elif 1 <= choice <= len(menu):\n",
        "                order_items.append(menu[choice - 1])\n",
        "            else:\n",
        "                print(\"Invalid choice.\")\n",
        "        except ValueError:\n",
        "            print(\"Invalid input.\")\n",
        "\n",
        "    if not order_items:\n",
        "      print(\"No items selected. Order canceled.\")\n",
        "      return\n",
        "\n",
        "    order = Order(customer_name, order_items)\n",
        "    order.display_order()\n",
        "\n",
        "\n",
        "if __name__ == \"__main__\":\n",
        "    main()\n"
      ],
      "metadata": {
        "colab": {
          "base_uri": "https://localhost:8080/"
        },
        "id": "MLgIlt3-KD6B",
        "outputId": "cfc22187-a566-4348-97cf-de8cb830d9ee"
      },
      "execution_count": 13,
      "outputs": [
        {
          "output_type": "stream",
          "name": "stdout",
          "text": [
            "Enter customer name: Rizwan\n",
            "Menu:\n",
            "1. Burger: PKR150.00\n",
            "2. Pizza: PKR450.00\n",
            "3. Fries: PKR100.00\n",
            "4. Soda: PKR180.00\n",
            "Enter item number (0 to finish): 1\n",
            "Enter item number (0 to finish): 0\n",
            "Order ID: 1738744395\n",
            "Customer Name: Rizwan\n",
            "Order Time: 2025-02-05 08:33:15\n",
            "Order Items:\n",
            "- Burger: PKR150.00\n",
            "Total Price: PKR150.00\n",
            "--------------------\n"
          ]
        }
      ]
    }
  ]
}