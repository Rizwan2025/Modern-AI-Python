{
  "nbformat": 4,
  "nbformat_minor": 0,
  "metadata": {
    "colab": {
      "provenance": [],
      "authorship_tag": "ABX9TyP77nsW9vDjbZw7LqFFex1o",
      "include_colab_link": true
    },
    "kernelspec": {
      "name": "python3",
      "display_name": "Python 3"
    },
    "language_info": {
      "name": "python"
    }
  },
  "cells": [
    {
      "cell_type": "markdown",
      "metadata": {
        "id": "view-in-github",
        "colab_type": "text"
      },
      "source": [
        "<a href=\"https://colab.research.google.com/github/Rizwan2025/Modern-AI-Python/blob/main/Tuple_Types.ipynb\" target=\"_parent\"><img src=\"https://colab.research.google.com/assets/colab-badge.svg\" alt=\"Open In Colab\"/></a>"
      ]
    },
    {
      "cell_type": "code",
      "execution_count": 4,
      "metadata": {
        "colab": {
          "base_uri": "https://localhost:8080/"
        },
        "id": "6eWkr1ZgX01L",
        "outputId": "f9f3f68a-1b70-46c9-aacf-bcd44e1de15b"
      },
      "outputs": [
        {
          "output_type": "stream",
          "name": "stdout",
          "text": [
            "(1, 2, 3, 4, 5)\n",
            "(1, 2, 3, 4, 5)\n",
            "(1, 2, 3, 4, 5)\n",
            "(42,)\n",
            "<class 'int'>\n",
            "(1, 'Hello', 3.14, True)\n",
            "((1, 2, 3), (4, 5, 6))\n"
          ]
        }
      ],
      "source": [
        "#In Python, a tuple is an immutable (unchangeable) ordered collection of elements. You can create a tuple in several ways:\n",
        "\n",
        "#1. Using Parentheses ()\n",
        "\n",
        "my_tuple = (1, 2, 3, 4, 5)\n",
        "print(my_tuple)  # Output: (1, 2, 3, 4, 5)\n",
        "\n",
        "#2. Without Parentheses (Tuple Packing)\n",
        "\n",
        "#Python allows creating tuples without parentheses:\n",
        "\n",
        "my_tuple = 1, 2, 3, 4, 5\n",
        "print(my_tuple)  # Output: (1, 2, 3, 4, 5)\n",
        "\n",
        "#3. Using tuple() Constructor\n",
        "\n",
        "my_tuple = tuple([1, 2, 3, 4, 5])  # Converting a list to a tuple\n",
        "print(my_tuple)  # Output: (1, 2, 3, 4, 5)\n",
        "\n",
        "#4. Creating a Single-Element Tuple\n",
        "\n",
        "#A tuple with one element must have a trailing comma ,:\n",
        "\n",
        "single_element_tuple = (42,)\n",
        "print(single_element_tuple)  # Output: (42,)\n",
        "\n",
        "#Without the comma, it’s just an integer:\n",
        "\n",
        "not_a_tuple = (42)\n",
        "print(type(not_a_tuple))  # Output: <class 'int'>\n",
        "\n",
        "#5. Tuple with Mixed Data Types\n",
        "\n",
        "mixed_tuple = (1, \"Hello\", 3.14, True)\n",
        "print(mixed_tuple)  # Output: (1, 'Hello', 3.14, True)\n",
        "\n",
        "#6. Nested Tuples\n",
        "\n",
        "#Tuples can contain other tuples:\n",
        "\n",
        "nested_tuple = ((1, 2, 3), (4, 5, 6))\n",
        "print(nested_tuple)  # Output: ((1, 2, 3), (4, 5, 6))"
      ]
    }
  ]
}